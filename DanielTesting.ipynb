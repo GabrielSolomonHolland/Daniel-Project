{
 "cells": [
  {
   "cell_type": "code",
   "execution_count": 24,
   "id": "rural-eating",
   "metadata": {},
   "outputs": [
    {
     "name": "stdout",
     "output_type": "stream",
     "text": [
      "   Douglas Fir-Larch         Size    Fb    Ft   Fv  Fc-perpendicular    Fc  \\\n",
      "0  Select Structural  2\\ & Wider\"  1500  1000  180               625  1700   \n",
      "1     No. 1 & Better  2\\ & Wider\"  1200   800  180               625  1550   \n",
      "\n",
      "         E    Emin  \n",
      "0  1900000  690000  \n",
      "1  1800000  660000  \n",
      "  Douglas Fir-Larch          Size   Fb   Ft   Fv  Fc-perpendicular    Fc  \\\n",
      "7          Standard  2\\-4\\\" Wide\"  575  375  180               625  1400   \n",
      "8           Utility  2\\-4\\\" Wide\"  275  175  180               625   900   \n",
      "\n",
      "         E    Emin  \n",
      "7  1400000  510000  \n",
      "8  1300000  470000  \n",
      "  Douglas Fir-Larch         Size   Fb   Ft   Fv  Fc-perpendicular   Fc  \\\n",
      "4             No. 3  2\\ & Wider\"  525  325  180               625  775   \n",
      "\n",
      "         E    Emin  \n",
      "4  1400000  510000  \n"
     ]
    },
    {
     "name": "stdin",
     "output_type": "stream",
     "text": [
      "Enter name of wood:  Douglas Fir-Larch\n"
     ]
    },
    {
     "name": "stdout",
     "output_type": "stream",
     "text": [
      "   Douglas Fir-Larch          Size    Fb    Ft   Fv  Fc-perpendicular    Fc  \\\n",
      "0  Select Structural   2\\ & Wider\"  1500  1000  180               625  1700   \n",
      "1     No. 1 & Better   2\\ & Wider\"  1200   800  180               625  1550   \n",
      "2              No. 1   2\\ & Wider\"  1000   675  180               625  1500   \n",
      "3              No. 2   2\\ & Wider\"   900   575  180               625  1350   \n",
      "4              No. 3   2\\ & Wider\"   525   325  180               625   775   \n",
      "5               Stud   2\\\" & Wider   700   450  180               625   850   \n",
      "6       Construction  2\\-4\\\" Wide\"  1000   650  180               625  1650   \n",
      "7           Standard  2\\-4\\\" Wide\"   575   375  180               625  1400   \n",
      "8            Utility  2\\-4\\\" Wide\"   275   175  180               625   900   \n",
      "\n",
      "         E    Emin  \n",
      "0  1900000  690000  \n",
      "1  1800000  660000  \n",
      "2  1700000  620000  \n",
      "3  1600000  580000  \n",
      "4  1400000  510000  \n",
      "5  1400000  510000  \n",
      "6  1500000  550000  \n",
      "7  1400000  510000  \n",
      "8  1300000  470000  \n"
     ]
    }
   ],
   "source": [
    "#Testing for daniel\n",
    "\n",
    "\"\"\"\n",
    "Calculate loading situation\n",
    "\n",
    "figure out what kind of wood to make a column out of to support the type of weight.\n",
    "    Based on species of wood\n",
    "        30\n",
    "    grade of wood\n",
    "        10 grade/species\n",
    "\n",
    "End goal: Given this species, dimension, grade, return i value, e min, f(c), r, E\n",
    "\n",
    "\n",
    "Input: Species, Grade, Length, Weight/Loading Condition\n",
    "\n",
    "Output: Calculations: i value, e min, f(c), r, E\n",
    "\"\"\"\n",
    "\n",
    "import pandas as pd\n",
    "import math\n",
    "\n",
    "wood = []\n",
    "\n",
    "douglasLarchDF = pd.read_csv(r\"C:/Users/S535982/Jupyter Testing/Daniel Project/NDS_values.csv\")\n",
    "douglasSouthDF = pd.read ...\n",
    "spruceDF = pd.read...\n",
    "\n",
    "wood.append(douglasLarchDF)\n",
    "\n",
    "\n",
    "print(douglasLarchDF.head(2))\n",
    "print(douglasLarchDF.tail(2))\n",
    "\n",
    "print(douglasLarchDF.loc[[4]])\n",
    "#print(douglasLarchDF[\"Fb\"])\n",
    "\n",
    "#Programming I\n",
    "\n",
    "usInput = input(\"Enter name of wood: \")\n",
    "if usInput == \"Douglas Fir-Larch\":\n",
    "\n",
    "    \n",
    "    \n",
    "usInput = input(\"Enter name of wood: \")\n",
    "grade = input(\"Enter grade: \")\n",
    "usInput3 = input(\"Enter length: \")\n",
    "\n",
    "if usInput == \"Douglas Fir-Larch\":\n",
    "    print(douglasLarchDF.loc[[grade]])\n"
   ]
  },
  {
   "cell_type": "code",
   "execution_count": null,
   "id": "behind-science",
   "metadata": {},
   "outputs": [],
   "source": []
  },
  {
   "cell_type": "code",
   "execution_count": null,
   "id": "graduate-convert",
   "metadata": {},
   "outputs": [],
   "source": []
  }
 ],
 "metadata": {
  "kernelspec": {
   "display_name": "Python 3",
   "language": "python",
   "name": "python3"
  },
  "language_info": {
   "codemirror_mode": {
    "name": "ipython",
    "version": 3
   },
   "file_extension": ".py",
   "mimetype": "text/x-python",
   "name": "python",
   "nbconvert_exporter": "python",
   "pygments_lexer": "ipython3",
   "version": "3.9.1"
  }
 },
 "nbformat": 4,
 "nbformat_minor": 5
}
