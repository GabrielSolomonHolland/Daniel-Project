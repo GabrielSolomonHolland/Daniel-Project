{
 "cells": [
  {
   "cell_type": "code",
   "execution_count": null,
   "id": "dried-universal",
   "metadata": {},
   "outputs": [],
   "source": [
    "#GUI Testing\n",
    "#please see licensing information md file and don't sue"
   ]
  },
  {
   "cell_type": "code",
   "execution_count": 2,
   "id": "guilty-spoke",
   "metadata": {},
   "outputs": [
    {
     "data": {
      "text/plain": [
       "'\\nCanvas code Code that didn\\'t work\\nbackground.create_image((920, 1080), anchor = NE, image = bgimage)\\nbackground.create_image((920, 1080), anchor = NE, image = img)\\nimg = ImageTk.PhotoImage(Image.open(\\'woodstockphotoresized.png\\'))\\nbgimage = PhotoImage(file = \"woodstockphotoresized.gif\")\\n\\na_test_label.pack() #This was a test\\nbgimage.pack() #Causes error\\nbackground.pack()\\nimg.pack() #Also causes error\\n'"
      ]
     },
     "execution_count": 2,
     "metadata": {},
     "output_type": "execute_result"
    }
   ],
   "source": [
    "from tkinter import *\n",
    "from PIL import Image, ImageTk\n",
    "  \n",
    "    \n",
    "#Start window\n",
    "root = Tk() \n",
    "\n",
    "\n",
    "#Variables to adjust window scale\n",
    "wind_width = 720\n",
    "wind_height = 720\n",
    "\n",
    "#Background\n",
    "background = Canvas(root, height = wind_height, width = wind_width)\n",
    "backgroundImage = Label(root)\n",
    "backgroundImage.img = PhotoImage(file=\"woodstockphotoresized.gif\")\n",
    "backgroundImage.config(image=backgroundImage.img)\n",
    "\n",
    "\n",
    "#Pack stuff\n",
    "\n",
    "backgroundImage.pack()\n",
    "background.pack()\n",
    "root.geometry = (\"720x720\") \n",
    "root.mainloop() \n",
    "\n",
    "\"\"\"\n",
    "Snippette from Reddit that works\n",
    "\n",
    "master = Tk()\n",
    "label = Label(master)\n",
    "label.img = PhotoImage(file='woodstockphotoresized.png')\n",
    "label.config(image=label.img)\n",
    "label.pack()\n",
    "\n",
    "master.mainloop()\n",
    "\"\"\"\n",
    "#Keeping broken code to remind myself what doesn't work\n",
    "\"\"\"\n",
    "Canvas code Code that didn't work\n",
    "background.create_image((920, 1080), anchor = NE, image = bgimage)\n",
    "background.create_image((920, 1080), anchor = NE, image = img)\n",
    "img = ImageTk.PhotoImage(Image.open('woodstockphotoresized.png'))\n",
    "bgimage = PhotoImage(file = \"woodstockphotoresized.gif\")\n",
    "\n",
    "a_test_label.pack() #This was a test\n",
    "bgimage.pack() #Causes error\n",
    "background.pack()\n",
    "img.pack() #Also causes error\n",
    "\"\"\""
   ]
  },
  {
   "cell_type": "code",
   "execution_count": null,
   "id": "manufactured-slovak",
   "metadata": {},
   "outputs": [],
   "source": [
    "\n"
   ]
  },
  {
   "cell_type": "code",
   "execution_count": null,
   "id": "sublime-invite",
   "metadata": {},
   "outputs": [],
   "source": []
  }
 ],
 "metadata": {
  "kernelspec": {
   "display_name": "Python 3",
   "language": "python",
   "name": "python3"
  },
  "language_info": {
   "codemirror_mode": {
    "name": "ipython",
    "version": 3
   },
   "file_extension": ".py",
   "mimetype": "text/x-python",
   "name": "python",
   "nbconvert_exporter": "python",
   "pygments_lexer": "ipython3",
   "version": "3.9.1"
  }
 },
 "nbformat": 4,
 "nbformat_minor": 5
}
