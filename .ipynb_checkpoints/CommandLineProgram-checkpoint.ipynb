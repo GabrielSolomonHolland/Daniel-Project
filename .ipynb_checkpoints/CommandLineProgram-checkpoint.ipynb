{
 "cells": [
  {
   "cell_type": "code",
   "execution_count": 14,
   "id": "french-deficit",
   "metadata": {},
   "outputs": [],
   "source": [
    "import pandas as pd\n",
    "from IPython.display import display\n",
    "import os"
   ]
  },
  {
   "cell_type": "code",
   "execution_count": 15,
   "id": "excellent-sullivan",
   "metadata": {},
   "outputs": [],
   "source": [
    "#Code to retrieve information from tables\n",
    "def getTable(woodType):\n",
    "    #This should make the working DF the CSV\n",
    "    returnDF = pd.read_csv(woodType)\n",
    "    return returnDF"
   ]
  },
  {
   "cell_type": "code",
   "execution_count": 16,
   "id": "broadband-edition",
   "metadata": {},
   "outputs": [],
   "source": [
    "#get a specific value\n",
    "def getSpecInfo(woodType, rowName, colName):\n",
    "    workingDF = pd.read_csv(woodType)\n",
    "    \n",
    "    #Get row index, this is WAY overengineered so I apologize, it works though so that's what matters\n",
    "    #This is way overengineered because pandas returns int64 which cannot be casted to a regular int which is dumb as hell and I hate it\n",
    "    rowIndex = str(workingDF.index[workingDF[woodType]==rowName]) #Typecast to string because it comes off as panda class int64, which can't become int\n",
    "    workingArr = list(rowIndex) #split into array for iteration\n",
    "    bracketInd = workingArr.index(\"[\") #Find the opening bracket, the format of the panda class int64 (which is stupid). Format = 'Pandas Class Int64 [12]'\n",
    "    bracketInd2 = workingArr.index(\"]\") #Find the end bracket just in case it is a double digit number, just an extra failsafe. Might be unnecessary but I am leaving this open for future scaling\n",
    "    \n",
    "    \n",
    "    if(bracketInd2 - 2 == bracketInd): #If the number is 1 digit\n",
    "        rowIndex = int(workingArr[bracketInd+1]) #Make the int the index of the bracket plus 1, the index of the digit we're looking for\n",
    "    else:\n",
    "        tempString = [workingArr[bracketInd+1], workingArr[bracketInd2-1]] #Take the two numbers between the bracket indicides, doesn't work for 3 digit numbers and hopefully we don't need that... that would suck\n",
    "        tempString2 = \"\".join(tempString) #put those side by side in a string\n",
    "        tempString2 = int(tempString2) #Make an int, no failsafe because the tables should be controlled\n",
    "        rowIndex = int(tempString2)\n",
    "        \n",
    "    #clean up space\n",
    "    del tempString, tempString2, bracketInd, brackedInd2, workingArr\n",
    "    \n",
    "    #Return requested data\n",
    "    return workingDF.at[rowIndex, colName]\n"
   ]
  },
  {
   "cell_type": "code",
   "execution_count": 17,
   "id": "accepting-printer",
   "metadata": {},
   "outputs": [],
   "source": [
    "def searchWood(term, woods):\n",
    "    return_list = []\n",
    "    for i in woods:\n",
    "        if str(i).contains(term):\n",
    "            return_list.append(i)\n",
    "    print(\"We found {} terms containing {}\".format(len(return_list), term))\n",
    "    if(len(return_list)==0):\n",
    "        return 0;\n",
    "    for j in range(len(return_list)):\n",
    "        print(\"Enter {} for {}\".format(j, return_list[j][:-4]))\n",
    "    "
   ]
  },
  {
   "cell_type": "code",
   "execution_count": 18,
   "id": "thermal-tokyo",
   "metadata": {},
   "outputs": [],
   "source": [
    "#grab names of files in path that are csv and add those strings to a list so we can print a menu that autoscales\n",
    "woods = ['Exit', 'custom search']\n",
    "for j in os.listdir('.'):\n",
    "    if(j.endswith('.csv')):\n",
    "        woods.append(j)"
   ]
  },
  {
   "cell_type": "code",
   "execution_count": null,
   "id": "proud-geometry",
   "metadata": {},
   "outputs": [],
   "source": [
    "#interface\n",
    "print(\"Welcome to NDS Reference Values Quick Grab\")\n",
    "\n",
    "\n",
    "while(True):\n",
    "\n",
    "    #print menu\n",
    "    '''\n",
    "    #Option 2\n",
    "    tab = PrettyTable(['Value', 'Name'])\n",
    "    for i in range(1, len(woods)):\n",
    "        tab.add_row([i, woods[i]])\n",
    "    print(tab)\n",
    "    '''\n",
    "    \n",
    "    #option 1\n",
    "    #example format: print('We are the {} who say \"{}!\"'.format('knights', 'Ni'))\n",
    "    print(\"Enter 0 to exit\\nEnter 1 to search by name\")\n",
    "    for i in range(2,len(woods)):\n",
    "        print(\"Enter {} for {}\".format(i,(woods[i][:-4])))\n",
    "\n",
    "    \n",
    "\n",
    "    #validate input\n",
    "    try:\n",
    "        #Take input\n",
    "        userInput = int(input(\"\\nInput Value: \"))\n",
    "    except ValueError:\n",
    "        print(\"Please enter an integer\\n\")\n",
    "        continue\n",
    "    \n",
    "    if(userInput<0 or userInput>(len(woods)-1)):\n",
    "        print(\"Please enter a number between 0 and {}\\n\".format(len(woods)-1))\n",
    "        continue\n",
    "    \n",
    "    #If they want to break out of the system\n",
    "    if(userInput == 0):\n",
    "        print(\"Thank you for using the NDS Reference Value Iterator\")\n",
    "        break\n",
    "            \n",
    "            \n",
    "    display(getTable(woods[userInput]))"
   ]
  }
 ],
 "metadata": {
  "kernelspec": {
   "display_name": "Python 3",
   "language": "python",
   "name": "python3"
  },
  "language_info": {
   "codemirror_mode": {
    "name": "ipython",
    "version": 3
   },
   "file_extension": ".py",
   "mimetype": "text/x-python",
   "name": "python",
   "nbconvert_exporter": "python",
   "pygments_lexer": "ipython3",
   "version": "3.9.1"
  }
 },
 "nbformat": 4,
 "nbformat_minor": 5
}
