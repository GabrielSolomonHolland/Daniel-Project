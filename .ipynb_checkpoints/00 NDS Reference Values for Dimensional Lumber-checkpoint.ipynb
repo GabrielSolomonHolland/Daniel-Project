{
 "cells": [
  {
   "cell_type": "markdown",
   "id": "essential-affairs",
   "metadata": {},
   "source": [
    "Purpose: Calculate loading situation\n",
    "\n",
    "\n",
    "\n",
    "figure out what kind of wood to make a column out of to support the type of weight.\n",
    "\n",
    "    Based on species of wood\n",
    "    \n",
    "        roughly 30 species to work with\n",
    "        \n",
    "    Based on grade of wood\n",
    "    \n",
    "        10 grades/species\n",
    "        \n",
    "End goal: Given this species, dimension, grade, return i value, e min, f(c), r, E\n",
    "\n",
    "Input: Species, Grade, Length, Weight/Loading Condition\n",
    "\n",
    "Output: Calculations: i value, e min, f(c), r, E\n"
   ]
  },
  {
   "cell_type": "code",
   "execution_count": 23,
   "id": "subsequent-contract",
   "metadata": {},
   "outputs": [
    {
     "name": "stdout",
     "output_type": "stream",
     "text": [
      "Select Wood Type: \n",
      "Enter 0 for Douglas Fir-Larch \n",
      "Enter 1 for Douglas Fir-South \n",
      "Enter 2 for Eastern Softwoods\n",
      "Enter 3 for Eastern White Pine \n",
      "Enter 4 for Hem-Fir \n",
      "Enter 5 for Redwood \n",
      "Enter 6 for Spruce-Pine-Fir (South)\n",
      "Enter 7 for Spruce-Pine-Fir \n",
      "Enter 8 for Western Woods\n",
      "Enter 9 to exit\n",
      "\n"
     ]
    },
    {
     "name": "stdin",
     "output_type": "stream",
     "text": [
      "Input Value:  4\n"
     ]
    },
    {
     "name": "stdout",
     "output_type": "stream",
     "text": [
      "\n",
      "\n",
      "Enter  0 for  Select Structural\n",
      "Enter  1 for  No. 1 & Better\n",
      "Enter  2 for  No. 1\n",
      "Enter  3 for  No. 2\n",
      "Enter  4 for  No. 3\n",
      "Enter  5 for  Stud\n",
      "Enter  6 for  Construction\n",
      "Enter  7 for  Standard\n",
      "Enter  8 for  Utility\n"
     ]
    },
    {
     "name": "stdin",
     "output_type": "stream",
     "text": [
      "\n",
      "Input Value:  1\n"
     ]
    },
    {
     "name": "stdout",
     "output_type": "stream",
     "text": [
      "\n",
      "\n"
     ]
    },
    {
     "data": {
      "text/plain": [
       "Hem-Fir             No. 1 & Better\n",
       "Size                    2\" & Wider\n",
       "Fb                            1100\n",
       "Ft                             725\n",
       "Fv                             150\n",
       "Fc-perpendicular               405\n",
       "Fc                            1350\n",
       "E                          1500000\n",
       "Emin                        550000\n",
       "Name: 1, dtype: object"
      ]
     },
     "metadata": {},
     "output_type": "display_data"
    },
    {
     "name": "stdin",
     "output_type": "stream",
     "text": [
      "Input Value:  9\n"
     ]
    },
    {
     "name": "stdout",
     "output_type": "stream",
     "text": [
      "Hope this helped lmao\n"
     ]
    }
   ],
   "source": [
    "#Import pandas and display for the dataframes and table functions\n",
    "import pandas as pd\n",
    "from IPython.display import display \n",
    "\n",
    "#Make list to put dataframes into for easier access later\n",
    "wood = []\n",
    "\n",
    "\n",
    "\n",
    "#Import csv's into dataframes and then into the wood list for easy iteration\n",
    "open(\"Douglas Fir-Larch.csv\", \"r\")\n",
    "douglasLarchDF = pd.read_csv(\"Douglas Fir-Larch.csv\")\n",
    "wood.append(douglasLarchDF)\n",
    "\n",
    "open(\"Douglas Fir-South.csv\", \"r\")\n",
    "douglasSouthDF = pd.read_csv(\"Douglas Fir-South.csv\")\n",
    "wood.append(douglasSouthDF)\n",
    "\n",
    "open(\"Eastern Softwoods.csv\", \"r\")\n",
    "easternsoftDF = pd.read_csv(\"Eastern Softwoods.csv\")\n",
    "wood.append(easternsoftDF)\n",
    "\n",
    "open(\"Eastern White Pine.csv\", \"r\")\n",
    "eastwhitepineDF = pd.read_csv(\"Eastern White Pine.csv\")\n",
    "wood.append(eastwhitepineDF)\n",
    "\n",
    "open(\"Hem-Fir.csv\", \"r\")\n",
    "hemFirDF = pd.read_csv(\"Hem-Fir.csv\")\n",
    "wood.append(hemFirDF)\n",
    "\n",
    "open(\"Redwood.csv\", \"r\")\n",
    "redWoodDF = pd.read_csv(\"Redwood.csv\")\n",
    "wood.append(redWoodDF)\n",
    "\n",
    "open(\"Spruce-Pine-Fir (South).csv\", \"r\")\n",
    "sprucepinefirsDF = pd.read_csv(\"Spruce-Pine-Fir (South).csv\")\n",
    "wood.append(sprucepinefirsDF)\n",
    "\n",
    "open(\"Spruce-Pine-Fir.csv\", \"r\")\n",
    "sprucepinefirDF = pd.read_csv(\"Spruce-Pine-Fir.csv\")\n",
    "wood.append(sprucepinefirDF)\n",
    "\n",
    "open(\"Western Woods.csv\", \"r\")\n",
    "westernwoodsDF = pd.read_csv(\"Western Woods.csv\")\n",
    "wood.append(westernwoodsDF)\n",
    "\n",
    "\n",
    "\n",
    "\n",
    "\n",
    "userInput=0\n",
    "\n",
    "\n",
    "#As long as we want, will manually break\n",
    "while(True):\n",
    "    \n",
    "    #Print off the Menu for inputs\n",
    "    #This menu will be adjusted for scaling, will be replaced with the 'print menu' process below this one.\n",
    "    print(\"Select Wood Type: \\nEnter 0 for Douglas Fir-Larch \\nEnter 1 for Douglas Fir-South \\nEnter 2 for Eastern Softwoods\")\n",
    "    print(\"Enter 3 for Eastern White Pine \\nEnter 4 for Hem-Fir \\nEnter 5 for Redwood \\nEnter 6 for Spruce-Pine-Fir (South)\")\n",
    "    print(\"Enter 7 for Spruce-Pine-Fir \\nEnter 8 for Western Woods\\nEnter 9 to exit\\n\")\n",
    "\n",
    "    #Take input\n",
    "    userInput = int(input(\"Input Value: \"))\n",
    "    \n",
    "    #If they want to break out of the system\n",
    "    if(userInput == 9):\n",
    "        print(\"Thank you for using the NDS Reference Value Iterator\")\n",
    "        break\n",
    "        \n",
    "    #If their input is within the range. This will be updated for scalability, won't hardcode the 9 value.\n",
    "    if((userInput < 9) and (userInput >= 0)):\n",
    "        \n",
    "        #read working dataframe into new DF for simplicity\n",
    "        #This method will be implemented for scalability\n",
    "        tempDF = wood[userInput]\n",
    "        \n",
    "        #Take list of headers and split it up for menu\n",
    "        #Scalable menu function to be implemented throughout program.\n",
    "        \n",
    "        headersList = list(tempDF.columns.values) #Take column values, put them into a list\n",
    "        woodTypeList = tempDF[headersList[0]] #Take first row value, this gets the headings from each csv\n",
    "        print(\"\\n\")\n",
    "        \n",
    "        #Print menu based on selected dataframe\n",
    "        for i in range(len(woodTypeList)):\n",
    "            print(\"Enter \",i, \"for \", woodTypeList[i])\n",
    "        \n",
    "        #Take second input and print\n",
    "        userInput2 = int(input(\"\\nInput Value: \"))\n",
    "        print(\"\\n\") \n",
    "        display(tempDF.loc[userInput2]) #Display information requested\n",
    "\n",
    "        \"\"\"            \n",
    "        display function for previous version. This would print the entire table requestion by wood prior\n",
    "        to implementation of requesting specific values\n",
    "        #display(wood[userInput])\n",
    "        \n",
    "        Other attempted options for previous versions:\n",
    "        \n",
    "        for i in range(len(wood[userInput])):\n",
    "            print(wood[userInput].loc[i])\n",
    "            \n",
    "        print(wood[userInput])\n",
    "        \"\"\"\n",
    "\n",
    "        \n",
    "    #If they are feeding bad inputs (integers)\n",
    "    #If they give a non-integer it will crash the program so don't do that, with a GUI and buttons this failsafe should be unnecessary\n",
    "    else:\n",
    "        print(\"Please enter an integeter between 0 and 8 or 9 to break\")\n"
   ]
  },
  {
   "cell_type": "code",
   "execution_count": null,
   "id": "driven-chess",
   "metadata": {},
   "outputs": [],
   "source": []
  }
 ],
 "metadata": {
  "kernelspec": {
   "display_name": "Python 3",
   "language": "python",
   "name": "python3"
  },
  "language_info": {
   "codemirror_mode": {
    "name": "ipython",
    "version": 3
   },
   "file_extension": ".py",
   "mimetype": "text/x-python",
   "name": "python",
   "nbconvert_exporter": "python",
   "pygments_lexer": "ipython3",
   "version": "3.9.1"
  }
 },
 "nbformat": 4,
 "nbformat_minor": 5
}
