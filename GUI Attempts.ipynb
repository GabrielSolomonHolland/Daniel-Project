{
 "cells": [
  {
   "cell_type": "code",
   "execution_count": null,
   "id": "hybrid-disposal",
   "metadata": {},
   "outputs": [],
   "source": [
    "#GUI Testing\n",
    "#please see licensing information md file"
   ]
  },
  {
   "cell_type": "code",
   "execution_count": 38,
   "id": "architectural-wales",
   "metadata": {},
   "outputs": [],
   "source": [
    "from tkinter import *\n",
    "  \n",
    "root = Tk() \n",
    "a = Label(root, text =\"Hello World\") \n",
    "a.pack() \n",
    "  \n",
    "root.mainloop() "
   ]
  },
  {
   "cell_type": "code",
   "execution_count": null,
   "id": "wrapped-symposium",
   "metadata": {},
   "outputs": [],
   "source": []
  }
 ],
 "metadata": {
  "kernelspec": {
   "display_name": "Python 3",
   "language": "python",
   "name": "python3"
  },
  "language_info": {
   "codemirror_mode": {
    "name": "ipython",
    "version": 3
   },
   "file_extension": ".py",
   "mimetype": "text/x-python",
   "name": "python",
   "nbconvert_exporter": "python",
   "pygments_lexer": "ipython3",
   "version": "3.9.1"
  }
 },
 "nbformat": 4,
 "nbformat_minor": 5
}
